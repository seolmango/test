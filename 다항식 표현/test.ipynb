{
 "cells": [
  {
   "cell_type": "code",
   "execution_count": 2,
   "metadata": {},
   "outputs": [],
   "source": [
    "import numpy as np\n",
    "\n",
    "def multiplePolynomial(a : np.array, b : np.array) -> np.array:\n",
    "  \"\"\"두개의 array로 표현된 다항식을 곱한 결과를 array형태로 반환해주는 함수\n",
    "\n",
    "  Args:\n",
    "      a (np.array): 곱할 첫번째 array\n",
    "      b (np.array): 곱할 두번째 array\n",
    "\n",
    "  Returns:\n",
    "      np.array: 곱한 결과 array\n",
    "  \"\"\"\n",
    "  result = np.zeros(tuple(sum(elem)-1 for elem in zip(a.shape, b.shape)), int)\n",
    "  for tempA in np.ndindex(a.shape):\n",
    "    for tempB in np.ndindex(b.shape):\n",
    "      result[tuple(sum(elem) for elem in zip(tempA, tempB))] += a[tempA] * b[tempB]\n",
    "  return result\n",
    "\n",
    "def findmin(array : np.array) -> None:\n",
    "  \"\"\"입력된 array형태의 다항식의 변수들에 각각 0또는 1일 대입하여 나오는 모든 경우의 결과값을 출력하는 함수\n",
    "\n",
    "  Args:\n",
    "      array (np.array): 다항식\n",
    "  \"\"\"\n",
    "  varCom = ()\n",
    "  nonecheck = ()\n",
    "  for i in range(array.ndim):\n",
    "    varCom += (2,)\n",
    "    nonecheck += (0,)\n",
    "  for Vartemp in np.ndindex(varCom):\n",
    "    Comsum = 0\n",
    "    for Loctemp in np.ndindex(array.shape):\n",
    "      default_mult = 1\n",
    "      for j in range(len(Loctemp)):\n",
    "        if(Loctemp[j] != 0):\n",
    "          default_mult *= Vartemp[j]\n",
    "      Comsum += array[Loctemp] * default_mult\n",
    "    print(Vartemp, \" : \", Comsum)"
   ]
  },
  {
   "cell_type": "code",
   "execution_count": 3,
   "metadata": {},
   "outputs": [],
   "source": [
    "row = [\n",
    "  [\n",
    "    [1,2],\n",
    "    [3,5]\n",
    "  ],\n",
    "  [\n",
    "    [4,7],\n",
    "    [6,8]\n",
    "  ]\n",
    "]"
   ]
  },
  {
   "cell_type": "code",
   "execution_count": 4,
   "metadata": {},
   "outputs": [],
   "source": [
    "test_array = np.array(row)"
   ]
  },
  {
   "cell_type": "code",
   "execution_count": 5,
   "metadata": {},
   "outputs": [
    {
     "name": "stdout",
     "output_type": "stream",
     "text": [
      "[[[  1   4   4]\n",
      "  [  6  22  20]\n",
      "  [  9  30  25]]\n",
      "\n",
      " [[  8  30  28]\n",
      "  [ 36 122 102]\n",
      "  [ 36 108  80]]\n",
      "\n",
      " [[ 16  56  49]\n",
      "  [ 48 148 112]\n",
      "  [ 36  96  64]]]\n"
     ]
    }
   ],
   "source": [
    "result_test = multiplePolynomial(test_array, test_array)\n",
    "print(result_test)"
   ]
  },
  {
   "cell_type": "code",
   "execution_count": 6,
   "metadata": {},
   "outputs": [
    {
     "name": "stdout",
     "output_type": "stream",
     "text": [
      "(0, 0, 0)  :  1\n",
      "(0, 0, 1)  :  9\n",
      "(0, 1, 0)  :  16\n",
      "(0, 1, 1)  :  121\n",
      "(1, 0, 0)  :  25\n",
      "(1, 0, 1)  :  196\n",
      "(1, 1, 0)  :  196\n",
      "(1, 1, 1)  :  1296\n"
     ]
    }
   ],
   "source": [
    "findmin(result_test)"
   ]
  },
  {
   "cell_type": "code",
   "execution_count": 7,
   "metadata": {},
   "outputs": [
    {
     "name": "stdout",
     "output_type": "stream",
     "text": [
      "[[0 1 1]\n",
      " [1 2 0]\n",
      " [1 0 0]]\n"
     ]
    }
   ],
   "source": [
    "rowA = [\n",
    "  [0,1],\n",
    "  [1,0]\n",
    "]\n",
    "rowB = [\n",
    "  [\n",
    "    [0,1],\n",
    "    [1,0]\n",
    "  ],\n",
    "  [\n",
    "    [1,0],\n",
    "    [0,0]\n",
    "  ]\n",
    "]\n",
    "testA = np.array(rowA)\n",
    "testB = np.array(rowB)\n",
    "result = multiplePolynomial(testA, testB)\n",
    "print(result)"
   ]
  }
 ],
 "metadata": {
  "kernelspec": {
   "display_name": "Python 3.9.11 64-bit",
   "language": "python",
   "name": "python3"
  },
  "language_info": {
   "codemirror_mode": {
    "name": "ipython",
    "version": 3
   },
   "file_extension": ".py",
   "mimetype": "text/x-python",
   "name": "python",
   "nbconvert_exporter": "python",
   "pygments_lexer": "ipython3",
   "version": "3.9.11"
  },
  "orig_nbformat": 4,
  "vscode": {
   "interpreter": {
    "hash": "82ed002fa2d4956f5c6aec99bcefe0f73a9f79882f3c9e2319b14958a5896ac5"
   }
  }
 },
 "nbformat": 4,
 "nbformat_minor": 2
}
